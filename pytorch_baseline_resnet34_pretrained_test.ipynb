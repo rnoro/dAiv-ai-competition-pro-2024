{
 "cells": [
  {
   "cell_type": "markdown",
   "id": "88f4de42",
   "metadata": {},
   "source": [
    "# dAiv AI_Competition[2024]_Pro Baseline for PyTorch"
   ]
  },
  {
   "cell_type": "markdown",
   "id": "f9142930",
   "metadata": {},
   "source": [
    "## Import Libraries"
   ]
  },
  {
   "cell_type": "code",
   "id": "bd45d5b6",
   "metadata": {
    "ExecuteTime": {
     "end_time": "2024-10-18T08:40:07.722822Z",
     "start_time": "2024-10-18T08:40:04.076723Z"
    }
   },
   "source": [
    "from os import path, rename, mkdir, listdir\n",
    "\n",
    "import torch\n",
    "from torch import nn, optim\n",
    "from torch.utils.data import DataLoader\n",
    "\n",
    "from torchvision import datasets, utils, models\n",
    "from torchvision import transforms\n",
    "\n",
    "import numpy as np\n",
    "import pandas as pd\n",
    "from tqdm.notebook import tqdm\n",
    "import matplotlib.pyplot as plt\n",
    "\n",
    "datasets.utils.tqdm = tqdm\n",
    "%matplotlib inline"
   ],
   "outputs": [],
   "execution_count": 1
  },
  {
   "cell_type": "markdown",
   "id": "4049b434",
   "metadata": {},
   "source": [
    "### Check GPU Availability"
   ]
  },
  {
   "cell_type": "code",
   "id": "e475e84e",
   "metadata": {
    "ExecuteTime": {
     "end_time": "2024-10-18T08:40:08.333639Z",
     "start_time": "2024-10-18T08:40:07.753449Z"
    }
   },
   "source": [
    "!nvidia-smi"
   ],
   "outputs": [
    {
     "name": "stdout",
     "output_type": "stream",
     "text": [
      "Fri Oct 18 08:40:07 2024       \r\n",
      "+-----------------------------------------------------------------------------+\r\n",
      "| NVIDIA-SMI 495.29.05    Driver Version: 495.29.05    CUDA Version: 11.5     |\r\n",
      "|-------------------------------+----------------------+----------------------+\r\n",
      "| GPU  Name        Persistence-M| Bus-Id        Disp.A | Volatile Uncorr. ECC |\r\n",
      "| Fan  Temp  Perf  Pwr:Usage/Cap|         Memory-Usage | GPU-Util  Compute M. |\r\n",
      "|                               |                      |               MIG M. |\r\n",
      "|===============================+======================+======================|\r\n",
      "|   0  Tesla P100-PCIE...  On   | 00000000:04:00.0 Off |                    0 |\r\n",
      "| N/A   41C    P0    34W / 250W |    679MiB / 16280MiB |      0%      Default |\r\n",
      "|                               |                      |                  N/A |\r\n",
      "+-------------------------------+----------------------+----------------------+\r\n",
      "|   1  Tesla P100-PCIE...  On   | 00000000:06:00.0 Off |                    0 |\r\n",
      "| N/A   41C    P0    31W / 250W |  15369MiB / 16280MiB |      0%      Default |\r\n",
      "|                               |                      |                  N/A |\r\n",
      "+-------------------------------+----------------------+----------------------+\r\n",
      "|   2  Tesla P100-PCIE...  On   | 00000000:07:00.0 Off |                    0 |\r\n",
      "| N/A   43C    P0    28W / 250W |      2MiB / 16280MiB |      0%      Default |\r\n",
      "|                               |                      |                  N/A |\r\n",
      "+-------------------------------+----------------------+----------------------+\r\n",
      "|   3  Tesla P100-PCIE...  On   | 00000000:08:00.0 Off |                    0 |\r\n",
      "| N/A   39C    P0    26W / 250W |      2MiB / 16280MiB |      0%      Default |\r\n",
      "|                               |                      |                  N/A |\r\n",
      "+-------------------------------+----------------------+----------------------+\r\n",
      "|   4  Tesla P100-PCIE...  On   | 00000000:0C:00.0 Off |                    0 |\r\n",
      "| N/A   37C    P0    25W / 250W |      2MiB / 16280MiB |      0%      Default |\r\n",
      "|                               |                      |                  N/A |\r\n",
      "+-------------------------------+----------------------+----------------------+\r\n",
      "|   5  Tesla P100-PCIE...  On   | 00000000:0D:00.0 Off |                    0 |\r\n",
      "| N/A   40C    P0    27W / 250W |      2MiB / 16280MiB |      0%      Default |\r\n",
      "|                               |                      |                  N/A |\r\n",
      "+-------------------------------+----------------------+----------------------+\r\n",
      "|   6  Tesla P100-PCIE...  On   | 00000000:0E:00.0 Off |                    0 |\r\n",
      "| N/A   37C    P0    26W / 250W |      2MiB / 16280MiB |      0%      Default |\r\n",
      "|                               |                      |                  N/A |\r\n",
      "+-------------------------------+----------------------+----------------------+\r\n",
      "|   7  Tesla P100-PCIE...  On   | 00000000:0F:00.0 Off |                    0 |\r\n",
      "| N/A   37C    P0    31W / 250W |   4383MiB / 16280MiB |      0%      Default |\r\n",
      "|                               |                      |                  N/A |\r\n",
      "+-------------------------------+----------------------+----------------------+\r\n",
      "                                                                               \r\n",
      "+-----------------------------------------------------------------------------+\r\n",
      "| Processes:                                                                  |\r\n",
      "|  GPU   GI   CI        PID   Type   Process name                  GPU Memory |\r\n",
      "|        ID   ID                                                   Usage      |\r\n",
      "|=============================================================================|\r\n",
      "|    1   N/A  N/A      9377      C   ...on08/anaconda3/bin/python    15367MiB |\r\n",
      "|    7   N/A  N/A     19896      C   ...on03/anaconda3/bin/python     4381MiB |\r\n",
      "+-----------------------------------------------------------------------------+\r\n"
     ]
    }
   ],
   "execution_count": 2
  },
  {
   "cell_type": "code",
   "id": "0d2df737",
   "metadata": {
    "ExecuteTime": {
     "end_time": "2024-10-18T08:40:09.261409Z",
     "start_time": "2024-10-18T08:40:08.938805Z"
    }
   },
   "source": [
    "# Set CUDA Device Number 0~7\n",
    "DEVICE_NUM = 5\n",
    "\n",
    "device = torch.device(\"cpu\")\n",
    "if torch.cuda.is_available():\n",
    "    torch.cuda.set_device(DEVICE_NUM)\n",
    "    device = torch.device(\"cuda\")\n",
    "print(\"INFO: Using device -\", device)"
   ],
   "outputs": [
    {
     "name": "stdout",
     "output_type": "stream",
     "text": [
      "INFO: Using device - cuda\n"
     ]
    }
   ],
   "execution_count": 3
  },
  {
   "cell_type": "markdown",
   "id": "85bc3d0f",
   "metadata": {},
   "source": [
    "## Load DataSets"
   ]
  },
  {
   "cell_type": "code",
   "id": "56b28aef",
   "metadata": {
    "ExecuteTime": {
     "end_time": "2024-10-18T08:40:09.775335Z",
     "start_time": "2024-10-18T08:40:09.333579Z"
    }
   },
   "source": [
    "from typing import Callable, Optional\n",
    "from sklearn.model_selection import train_test_split\n",
    "\n",
    "\n",
    "class ImageDataset(datasets.ImageFolder):\n",
    "    download_url = \"https://daiv-cnu.duckdns.org/contest/ai_competition[2024]_pro/dataset/archive.zip\"\n",
    "    random_state = 20241028\n",
    "\n",
    "    def __init__(\n",
    "            self, root: str, force_download: bool = True,\n",
    "            train: bool = False, valid: bool = False, split_ratio: float = 0.8,\n",
    "            test: bool = False, unlabeled: bool = False,\n",
    "            transform: Optional[Callable] = None, target_transform: Optional[Callable] = None\n",
    "    ):\n",
    "        self.download(root, force=force_download)  # Download Dataset from server\n",
    "\n",
    "        if train or valid:  # Set-up directory\n",
    "            root = path.join(root, \"train\")\n",
    "        else:\n",
    "            root = path.join(root, \"test\" if test else \"unlabeled\" if unlabeled else None)\n",
    "\n",
    "        # Initialize ImageFolder\n",
    "        super().__init__(root=root, transform=transform, target_transform=target_transform)\n",
    "\n",
    "        if train or valid:  # Split Train and Validation Set\n",
    "            seperated = train_test_split(\n",
    "                self.samples, self.targets, test_size=1-split_ratio, stratify=self.targets, random_state=self.random_state\n",
    "            )\n",
    "            self.samples, self.targets = (seperated[0], seperated[2]) if train else (seperated[1], seperated[3])\n",
    "            self.imgs = self.samples\n",
    "\n",
    "    @classmethod\n",
    "    def download(cls, root: str, force: bool = False):\n",
    "        if force or not path.isfile(path.join(root, \"archive.zip\")):\n",
    "            # Download and Extract Dataset\n",
    "            datasets.utils.download_and_extract_archive(cls.download_url, download_root=root, extract_root=root, filename=\"archive.zip\")\n",
    "            \n",
    "            # Arrange Dataset Directory\n",
    "            for target_dir in [path.join(root, \"test\"), path.join(root, \"unlabeled\")]:\n",
    "                for file in listdir(target_dir):\n",
    "                    mkdir(path.join(target_dir, file.replace(\".jpg\", \"\")))\n",
    "                    rename(path.join(target_dir, file), path.join(target_dir, file.replace(\".jpg\", \"\"), file))\n",
    "\n",
    "            print(\"INFO: Dataset archive downloaded and extracted.\")\n",
    "        else:\n",
    "            print(\"INFO: Dataset archive found in the root directory. Skipping download.\")"
   ],
   "outputs": [],
   "execution_count": 4
  },
  {
   "metadata": {},
   "cell_type": "markdown",
   "source": "### Dataset Initialization",
   "id": "b419ce2cb5914ac5"
  },
  {
   "cell_type": "code",
   "id": "e1489d0b",
   "metadata": {
    "ExecuteTime": {
     "end_time": "2024-10-18T08:40:09.852120Z",
     "start_time": "2024-10-18T08:40:09.847325Z"
    }
   },
   "source": [
    "# Image Resizing and Tensor Conversion\n",
    "IMG_SIZE = (256, 256)\n",
    "IMG_NORM = dict(  # ImageNet Normalization\n",
    "    mean=[0.485, 0.456, 0.406], std=[0.229, 0.224, 0.225]\n",
    ")\n",
    "\n",
    "resizer = transforms.Compose([\n",
    "    transforms.Resize(IMG_SIZE),  # Resize Image\n",
    "    transforms.ToTensor(),  # Convert Image to Tensor\n",
    "    transforms.Normalize(**IMG_NORM)  # Normalization\n",
    "])"
   ],
   "outputs": [],
   "execution_count": 5
  },
  {
   "cell_type": "code",
   "id": "55933cbc",
   "metadata": {
    "ExecuteTime": {
     "end_time": "2024-10-18T08:40:09.989179Z",
     "start_time": "2024-10-18T08:40:09.890566Z"
    }
   },
   "source": [
    "DATA_ROOT = path.join(\".\", \"data\")\n",
    "\n",
    "train_dataset = ImageDataset(root=DATA_ROOT, force_download=False, train=True, transform=resizer)\n",
    "valid_dataset = ImageDataset(root=DATA_ROOT, force_download=False, valid=True, transform=resizer)\n",
    "\n",
    "test_dataset = ImageDataset(root=DATA_ROOT, force_download=False, test=True, transform=resizer)\n",
    "unlabeled_dataset = ImageDataset(root=DATA_ROOT, force_download=False, unlabeled=True, transform=resizer)\n",
    "\n",
    "print(f\"INFO: Dataset loaded successfully. Number of samples - Train({len(train_dataset)}), Valid({len(valid_dataset)}), Test({len(test_dataset)}), Unlabeled({len(unlabeled_dataset)})\")"
   ],
   "outputs": [
    {
     "name": "stdout",
     "output_type": "stream",
     "text": [
      "INFO: Dataset archive found in the root directory. Skipping download.\n",
      "INFO: Dataset archive found in the root directory. Skipping download.\n",
      "INFO: Dataset archive found in the root directory. Skipping download.\n",
      "INFO: Dataset archive found in the root directory. Skipping download.\n",
      "INFO: Dataset loaded successfully. Number of samples - Train(7478), Valid(1870), Test(1110), Unlabeled(380)\n"
     ]
    }
   ],
   "execution_count": 6
  },
  {
   "metadata": {},
   "cell_type": "markdown",
   "source": [
    "### Visualize Dataset Distribution\n",
    "    - for checking..."
   ],
   "id": "5b6fe305cb5b234b"
  },
  {
   "metadata": {
    "ExecuteTime": {
     "end_time": "2024-10-18T08:40:10.019923Z",
     "start_time": "2024-10-18T08:40:10.015865Z"
    }
   },
   "cell_type": "code",
   "source": [
    "from collections import Counter\n",
    "\n",
    "def dist_visualizer(dataset, title: str):\n",
    "    counter = Counter(dataset.targets)\n",
    "    labels, values = zip(*sorted(counter.items()))\n",
    "\n",
    "    plt.figure(figsize=(8, 2))\n",
    "    plt.bar(labels, values)\n",
    "    plt.title(title)\n",
    "    plt.show()"
   ],
   "id": "2a012af140f88d5d",
   "outputs": [],
   "execution_count": 7
  },
  {
   "metadata": {
    "ExecuteTime": {
     "end_time": "2024-10-18T08:40:10.069473Z",
     "start_time": "2024-10-18T08:40:10.064839Z"
    }
   },
   "cell_type": "code",
   "source": [
    "# Label Check\n",
    "for i, label in zip(range(5), train_dataset.targets):\n",
    "    print(i, \"-\", train_dataset.classes[label])"
   ],
   "id": "ba2d5dcc2de29df3",
   "outputs": [
    {
     "name": "stdout",
     "output_type": "stream",
     "text": [
      "0 - 050.Pelagic_Cormorant\n",
      "1 - 020.Leonberger\n",
      "2 - 104.Black_capped_Vireo\n",
      "3 - 020.Leonberger\n",
      "4 - 009.Siamese\n"
     ]
    }
   ],
   "execution_count": 8
  },
  {
   "metadata": {
    "ExecuteTime": {
     "end_time": "2024-10-18T08:40:10.158009Z",
     "start_time": "2024-10-18T08:40:10.098984Z"
    }
   },
   "cell_type": "code",
   "source": [
    "# Data Check\n",
    "for i, image in zip(range(2), train_dataset.samples):\n",
    "    print(i, \"-\", *train_dataset[i], image[0])"
   ],
   "id": "d8c7a2e166c6556a",
   "outputs": [
    {
     "name": "stdout",
     "output_type": "stream",
     "text": [
      "0 - tensor([[[ 0.5364,  0.5536,  0.5536,  ...,  0.7419,  0.7077,  0.7077],\n",
      "         [ 0.5364,  0.5536,  0.5536,  ...,  0.7419,  0.7077,  0.7077],\n",
      "         [ 0.5536,  0.5536,  0.5536,  ...,  0.7419,  0.7248,  0.7248],\n",
      "         ...,\n",
      "         [ 1.3070,  1.1872,  1.1358,  ...,  0.9988,  1.1015,  0.8104],\n",
      "         [ 1.2043,  1.1872,  1.1015,  ...,  0.7419,  0.6392,  0.4851],\n",
      "         [ 1.0844,  1.1187,  1.0673,  ...,  0.7248,  0.6734,  1.0331]],\n",
      "\n",
      "        [[ 0.3978,  0.4153,  0.4328,  ...,  0.5028,  0.4678,  0.4328],\n",
      "         [ 0.3978,  0.4153,  0.4153,  ...,  0.5028,  0.4853,  0.4503],\n",
      "         [ 0.3803,  0.3803,  0.4153,  ...,  0.5028,  0.4853,  0.4503],\n",
      "         ...,\n",
      "         [ 1.0455,  0.9230,  0.8880,  ...,  0.7829,  0.8704,  0.5553],\n",
      "         [ 0.9755,  0.9580,  0.9055,  ...,  0.5553,  0.3627,  0.1176],\n",
      "         [ 0.8529,  0.9055,  0.8880,  ...,  0.5378,  0.3803,  0.6779]],\n",
      "\n",
      "        [[ 0.2348,  0.2348,  0.2522,  ...,  0.3045,  0.2522,  0.1999],\n",
      "         [ 0.2173,  0.2348,  0.2348,  ...,  0.3045,  0.2522,  0.1999],\n",
      "         [ 0.2173,  0.2173,  0.1999,  ...,  0.3219,  0.2696,  0.2173],\n",
      "         ...,\n",
      "         [ 1.0191,  0.8971,  0.8971,  ...,  0.3916,  0.5136,  0.2173],\n",
      "         [ 0.9494,  0.9494,  0.9319,  ...,  0.2871,  0.1651, -0.1835],\n",
      "         [ 0.8274,  0.9145,  0.9319,  ...,  0.3568,  0.1999,  0.3045]]]) 50 ./data/train/050.Pelagic_Cormorant/016.jpg\n",
      "1 - tensor([[[-0.4226, -0.5938, -0.8678,  ..., -0.3369, -0.4568, -0.5253],\n",
      "         [-0.3883, -0.5596, -0.8335,  ..., -0.3027, -0.4226, -0.4911],\n",
      "         [-0.3541, -0.4739, -0.7822,  ..., -0.2856, -0.4054, -0.4739],\n",
      "         ...,\n",
      "         [-0.3541, -0.4739, -0.5253,  ..., -0.9877, -0.9705, -0.9877],\n",
      "         [-0.4397, -0.5082, -0.5253,  ..., -0.9877, -1.0048, -1.0562],\n",
      "         [-0.5082, -0.5424, -0.5253,  ..., -0.9192, -0.7479, -0.7822]],\n",
      "\n",
      "        [[-0.0749, -0.0749, -0.1450,  ..., -0.1275, -0.2500, -0.3200],\n",
      "         [-0.0574, -0.0749, -0.0924,  ..., -0.0924, -0.2325, -0.3025],\n",
      "         [-0.0224, -0.0399, -0.0749,  ..., -0.0749, -0.1975, -0.2850],\n",
      "         ...,\n",
      "         [-0.2675, -0.3901, -0.4426,  ..., -0.3550, -0.3375, -0.4426],\n",
      "         [-0.3375, -0.4251, -0.4601,  ..., -0.4076, -0.4076, -0.4951],\n",
      "         [-0.4076, -0.4601, -0.4601,  ..., -0.4076, -0.3375, -0.4251]],\n",
      "\n",
      "        [[ 0.0431, -0.1138, -0.6018,  ...,  0.1651,  0.0605, -0.0267],\n",
      "         [ 0.0779, -0.1138, -0.5495,  ...,  0.1825,  0.0779, -0.0267],\n",
      "         [ 0.1128, -0.0615, -0.4624,  ...,  0.2173,  0.0779, -0.0092],\n",
      "         ...,\n",
      "         [-0.0441, -0.1487, -0.2532,  ..., -0.9504, -0.8633, -0.8110],\n",
      "         [-0.1312, -0.1835, -0.2358,  ..., -0.8981, -0.8458, -0.8633],\n",
      "         [-0.1835, -0.2010, -0.2184,  ..., -0.8284, -0.6367, -0.7064]]]) 20 ./data/train/020.Leonberger/162.jpg\n"
     ]
    }
   ],
   "execution_count": 9
  },
  {
   "metadata": {
    "ExecuteTime": {
     "end_time": "2024-10-18T08:40:10.664847Z",
     "start_time": "2024-10-18T08:40:10.179370Z"
    }
   },
   "cell_type": "code",
   "source": [
    "# Distribution\n",
    "dist_visualizer(train_dataset, \"Train Dataset Distribution\")\n",
    "dist_visualizer(valid_dataset, \"Valid Dataset Distribution\")"
   ],
   "id": "c16ee12b11a6719",
   "outputs": [
    {
     "data": {
      "text/plain": [
       "<Figure size 800x200 with 1 Axes>"
      ],
      "image/png": "[encoded data removed]"
     },
     "metadata": {},
     "output_type": "display_data"
    },
    {
     "data": {
      "text/plain": [
       "<Figure size 800x200 with 1 Axes>"
      ],
      "image/png": "[encoded data removed]"
     },
     "metadata": {},
     "output_type": "display_data"
    }
   ],
   "execution_count": 10
  },
  {
   "cell_type": "markdown",
   "id": "7b34674f",
   "metadata": {},
   "source": [
    "## Data Augmentation if needed"
   ]
  },
  {
   "cell_type": "code",
   "id": "7ced1da0",
   "metadata": {
    "ExecuteTime": {
     "end_time": "2024-10-18T08:40:10.769818Z",
     "start_time": "2024-10-18T08:40:10.765873Z"
    }
   },
   "source": [
    "ROTATE_ANGLE = 20\n",
    "COLOR_TRANSFORM = 0.1"
   ],
   "outputs": [],
   "execution_count": 11
  },
  {
   "cell_type": "code",
   "id": "268d5c43",
   "metadata": {
    "ExecuteTime": {
     "end_time": "2024-10-18T08:40:10.803571Z",
     "start_time": "2024-10-18T08:40:10.799993Z"
    }
   },
   "source": [
    "augmenter = transforms.Compose([\n",
    "    transforms.RandomHorizontalFlip(),\n",
    "    transforms.RandomRotation(ROTATE_ANGLE),\n",
    "    transforms.ColorJitter(\n",
    "        brightness=COLOR_TRANSFORM, contrast=COLOR_TRANSFORM,\n",
    "        saturation=COLOR_TRANSFORM, hue=COLOR_TRANSFORM\n",
    "    ),\n",
    "    transforms.RandomResizedCrop(IMG_SIZE, scale=(0.8, 1.0), ratio=(0.75, 1.333)),\n",
    "    resizer\n",
    "])"
   ],
   "outputs": [],
   "execution_count": 12
  },
  {
   "cell_type": "code",
   "id": "efd6c21a",
   "metadata": {
    "ExecuteTime": {
     "end_time": "2024-10-18T08:40:10.951898Z",
     "start_time": "2024-10-18T08:40:10.907236Z"
    }
   },
   "source": [
    "train_dataset = ImageDataset(root=DATA_ROOT, force_download=False, train=True, transform=augmenter)\n",
    "\n",
    "print(f\"INFO: Train dataset has been overridden with augmented state. Number of samples - Train({len(train_dataset)})\")"
   ],
   "outputs": [
    {
     "name": "stdout",
     "output_type": "stream",
     "text": [
      "INFO: Dataset archive found in the root directory. Skipping download.\n",
      "INFO: Train dataset has been overridden with augmented state. Number of samples - Train(7478)\n"
     ]
    }
   ],
   "execution_count": 13
  },
  {
   "cell_type": "markdown",
   "id": "0ccaf990",
   "metadata": {},
   "source": [
    "## DataLoader"
   ]
  },
  {
   "cell_type": "code",
   "id": "b5db3d26",
   "metadata": {
    "ExecuteTime": {
     "end_time": "2024-10-18T08:40:11.007628Z",
     "start_time": "2024-10-18T08:40:11.003828Z"
    }
   },
   "source": [
    "# Set Batch Size\n",
    "BATCH_SIZE = 128"
   ],
   "outputs": [],
   "execution_count": 14
  },
  {
   "cell_type": "code",
   "id": "caf78698",
   "metadata": {
    "ExecuteTime": {
     "end_time": "2024-10-18T08:40:11.072407Z",
     "start_time": "2024-10-18T08:40:11.065161Z"
    }
   },
   "source": [
    "MULTI_PROCESSING = True  # Set False if DataLoader is causing issues\n",
    "\n",
    "from platform import system\n",
    "if MULTI_PROCESSING and system() != \"Windows\":  # Multiprocess data loading is not supported on Windows\n",
    "    import multiprocessing\n",
    "    cpu_cores = multiprocessing.cpu_count()\n",
    "    print(f\"INFO: Number of CPU cores - {cpu_cores}\")\n",
    "else:\n",
    "    cpu_cores = 0\n",
    "    print(\"INFO: Using DataLoader without multi-processing.\")\n",
    "\n",
    "train_loader = DataLoader(train_dataset, batch_size=BATCH_SIZE, shuffle=True, num_workers=cpu_cores)\n",
    "valid_loader = DataLoader(valid_dataset, batch_size=BATCH_SIZE, shuffle=False, num_workers=cpu_cores)\n",
    "test_loader = DataLoader(test_dataset, batch_size=BATCH_SIZE, shuffle=False, num_workers=cpu_cores)\n",
    "unlabeled_loader = DataLoader(unlabeled_dataset, batch_size=BATCH_SIZE, shuffle=True, num_workers=cpu_cores)"
   ],
   "outputs": [
    {
     "name": "stdout",
     "output_type": "stream",
     "text": [
      "INFO: Number of CPU cores - 48\n"
     ]
    }
   ],
   "execution_count": 15
  },
  {
   "cell_type": "code",
   "id": "d3220e37",
   "metadata": {
    "ExecuteTime": {
     "end_time": "2024-10-18T08:40:11.110305Z",
     "start_time": "2024-10-18T08:40:11.106434Z"
    }
   },
   "source": [
    "# Image Visualizer\n",
    "def imshow(image_list, mean=IMG_NORM['mean'], std=IMG_NORM['std']):\n",
    "    np_image = np.array(image_list).transpose((1, 2, 0))\n",
    "    de_norm_image = np_image * std + mean\n",
    "    plt.figure(figsize=(10, 10))\n",
    "    plt.imshow(de_norm_image)"
   ],
   "outputs": [],
   "execution_count": 16
  },
  {
   "cell_type": "code",
   "id": "566c71c2",
   "metadata": {
    "ExecuteTime": {
     "end_time": "2024-10-18T08:40:11.160882Z",
     "start_time": "2024-10-18T08:40:11.157199Z"
    }
   },
   "source": [
    "# images, targets = next(iter(train_loader))\n",
    "# grid_images = utils.make_grid(images, nrow=8, padding=10)\n",
    "# imshow(grid_images)"
   ],
   "outputs": [],
   "execution_count": 17
  },
  {
   "cell_type": "markdown",
   "id": "e26620dd",
   "metadata": {},
   "source": [
    "## Define Model"
   ]
  },
  {
   "metadata": {
    "ExecuteTime": {
     "end_time": "2024-10-18T08:40:11.196143Z",
     "start_time": "2024-10-18T08:40:11.192317Z"
    }
   },
   "cell_type": "code",
   "source": [
    "from torch.autograd import Function\n",
    "\n",
    "class GradientReversal(Function):\n",
    "    @staticmethod\n",
    "    def forward(ctx, x, lambda_grl):\n",
    "        ctx.lambda_grl = lambda_grl\n",
    "        return x.view_as(x)\n",
    "\n",
    "    @staticmethod\n",
    "    def backward(ctx, grad_output):\n",
    "        return grad_output.neg() * ctx.lambda_grl, None\n"
   ],
   "id": "d9c1837d01463a4",
   "outputs": [],
   "execution_count": 18
  },
  {
   "cell_type": "code",
   "id": "230c184a",
   "metadata": {
    "ExecuteTime": {
     "end_time": "2024-10-18T08:40:11.246032Z",
     "start_time": "2024-10-18T08:40:11.241179Z"
    }
   },
   "source": [
    "class SecondMaxLayer(nn.Module):\n",
    "    def __init__(self):\n",
    "        super().__init__()\n",
    "\n",
    "    def forward(self, x):\n",
    "        x = x.clone()\n",
    "        max_val, max_idx = torch.max(x, dim=1, keepdim=True)\n",
    "        x.scatter_(1, max_idx, 1e-12)\n",
    "        return x"
   ],
   "outputs": [],
   "execution_count": 19
  },
  {
   "cell_type": "code",
   "id": "ca47ef1a",
   "metadata": {
    "ExecuteTime": {
     "end_time": "2024-10-18T08:40:11.284790Z",
     "start_time": "2024-10-18T08:40:11.277159Z"
    }
   },
   "source": [
    "class ImageClassifier(nn.Module):\n",
    "    def __init__(self, input_channel: int, output_channel: int, adaptive_pool_size: int, img_size: int, num_classes: int):\n",
    "        super().__init__()\n",
    "        self.multiple_output = False\n",
    "\n",
    "        # 특징 추출기 (ResNet 백본)\n",
    "        self.resnet = models.resnet34(pretrained=True)\n",
    "        self.fc_size = self.resnet.fc.in_features\n",
    "        self.resnet.fc = nn.Linear(self.fc_size, adaptive_pool_size)\n",
    "\n",
    "        # 도메인 분류기 - 복잡한 도메인 분류를 위한 다층 퍼셉트론(MLP)\n",
    "        self.domain_classifier = nn.Sequential(\n",
    "            nn.Linear(adaptive_pool_size, 64),\n",
    "            nn.ReLU(),\n",
    "            nn.Dropout(0.5),\n",
    "            nn.Linear(64, 1)\n",
    "        )\n",
    "\n",
    "        # 출력 레이어 - 최종 예측을 위한 메인 분류기\n",
    "        self.classifier = nn.Linear(adaptive_pool_size, num_classes)\n",
    "\n",
    "        # 멀티라벨 분류를 위한 보조 분류기 (필요할 경우 사용)\n",
    "        self.secondary = SecondMaxLayer()\n",
    "\n",
    "    def toggle_multilabel(self, multi_label: bool | None = None):\n",
    "        \"\"\"싱글 라벨과 멀티 라벨 분류 사이를 전환하는 함수.\"\"\"\n",
    "        if isinstance(multi_label, bool):\n",
    "            self.multiple_output = multi_label\n",
    "        else:\n",
    "            self.multiple_output = not self.multiple_output\n",
    "\n",
    "    def forward(self, x, lambda_grl=1.0):\n",
    "        # ResNet을 통한 특징 추출\n",
    "        extracted = self.resnet(x)\n",
    "    \n",
    "        # 메인 분류기의 출력\n",
    "        out = self.classifier(extracted)\n",
    "    \n",
    "        # GRL 적용 후 도메인 분류기 통과\n",
    "        reversed_feature = GradientReversal.apply(extracted, lambda_grl)\n",
    "        domain = torch.sigmoid(self.domain_classifier(reversed_feature))\n",
    "    \n",
    "        # 멀티라벨 출력이 활성화된 경우\n",
    "        if self.multiple_output:\n",
    "            return domain, out, self.secondary(out)\n",
    "    \n",
    "        # 도메인과 메인 분류기 출력 반환\n",
    "        return domain, out"
   ],
   "outputs": [],
   "execution_count": 20
  },
  {
   "cell_type": "code",
   "id": "7de92fef",
   "metadata": {
    "ExecuteTime": {
     "end_time": "2024-10-18T08:40:11.447500Z",
     "start_time": "2024-10-18T08:40:11.444109Z"
    }
   },
   "source": [
    "CLASS_LABELS = len(train_dataset.classes)\n",
    "\n",
    "MODEL_PARAMS = dict(\n",
    "    input_channel=3, output_channel=64, adaptive_pool_size=512,\n",
    "    img_size=IMG_SIZE[0], num_classes=CLASS_LABELS\n",
    ")"
   ],
   "outputs": [],
   "execution_count": 21
  },
  {
   "cell_type": "code",
   "id": "81ca0fa4",
   "metadata": {
    "ExecuteTime": {
     "end_time": "2024-10-18T08:40:14.539989Z",
     "start_time": "2024-10-18T08:40:11.456779Z"
    }
   },
   "source": [
    "# Initialize Model\n",
    "model = ImageClassifier(**MODEL_PARAMS)\n",
    "model.to(device)"
   ],
   "outputs": [
    {
     "name": "stderr",
     "output_type": "stream",
     "text": [
      "/shared_hdd/rnoro5122/anaconda3/lib/python3.12/site-packages/torchvision/models/_utils.py:208: UserWarning: The parameter 'pretrained' is deprecated since 0.13 and may be removed in the future, please use 'weights' instead.\n",
      "  warnings.warn(\n",
      "/shared_hdd/rnoro5122/anaconda3/lib/python3.12/site-packages/torchvision/models/_utils.py:223: UserWarning: Arguments other than a weight enum or `None` for 'weights' are deprecated since 0.13 and may be removed in the future. The current behavior is equivalent to passing `weights=ResNet34_Weights.IMAGENET1K_V1`. You can also use `weights=ResNet34_Weights.DEFAULT` to get the most up-to-date weights.\n",
      "  warnings.warn(msg)\n"
     ]
    },
    {
     "data": {
      "text/plain": [
       "ImageClassifier(\n",
       "  (resnet): ResNet(\n",
       "    (conv1): Conv2d(3, 64, kernel_size=(7, 7), stride=(2, 2), padding=(3, 3), bias=False)\n",
       "    (bn1): BatchNorm2d(64, eps=1e-05, momentum=0.1, affine=True, track_running_stats=True)\n",
       "    (relu): ReLU(inplace=True)\n",
       "    (maxpool): MaxPool2d(kernel_size=3, stride=2, padding=1, dilation=1, ceil_mode=False)\n",
       "    (layer1): Sequential(\n",
       "      (0): BasicBlock(\n",
       "        (conv1): Conv2d(64, 64, kernel_size=(3, 3), stride=(1, 1), padding=(1, 1), bias=False)\n",
       "        (bn1): BatchNorm2d(64, eps=1e-05, momentum=0.1, affine=True, track_running_stats=True)\n",
       "        (relu): ReLU(inplace=True)\n",
       "        (conv2): Conv2d(64, 64, kernel_size=(3, 3), stride=(1, 1), padding=(1, 1), bias=False)\n",
       "        (bn2): BatchNorm2d(64, eps=1e-05, momentum=0.1, affine=True, track_running_stats=True)\n",
       "      )\n",
       "      (1): BasicBlock(\n",
       "        (conv1): Conv2d(64, 64, kernel_size=(3, 3), stride=(1, 1), padding=(1, 1), bias=False)\n",
       "        (bn1): BatchNorm2d(64, eps=1e-05, momentum=0.1, affine=True, track_running_stats=True)\n",
       "        (relu): ReLU(inplace=True)\n",
       "        (conv2): Conv2d(64, 64, kernel_size=(3, 3), stride=(1, 1), padding=(1, 1), bias=False)\n",
       "        (bn2): BatchNorm2d(64, eps=1e-05, momentum=0.1, affine=True, track_running_stats=True)\n",
       "      )\n",
       "      (2): BasicBlock(\n",
       "        (conv1): Conv2d(64, 64, kernel_size=(3, 3), stride=(1, 1), padding=(1, 1), bias=False)\n",
       "        (bn1): BatchNorm2d(64, eps=1e-05, momentum=0.1, affine=True, track_running_stats=True)\n",
       "        (relu): ReLU(inplace=True)\n",
       "        (conv2): Conv2d(64, 64, kernel_size=(3, 3), stride=(1, 1), padding=(1, 1), bias=False)\n",
       "        (bn2): BatchNorm2d(64, eps=1e-05, momentum=0.1, affine=True, track_running_stats=True)\n",
       "      )\n",
       "    )\n",
       "    (layer2): Sequential(\n",
       "      (0): BasicBlock(\n",
       "        (conv1): Conv2d(64, 128, kernel_size=(3, 3), stride=(2, 2), padding=(1, 1), bias=False)\n",
       "        (bn1): BatchNorm2d(128, eps=1e-05, momentum=0.1, affine=True, track_running_stats=True)\n",
       "        (relu): ReLU(inplace=True)\n",
       "        (conv2): Conv2d(128, 128, kernel_size=(3, 3), stride=(1, 1), padding=(1, 1), bias=False)\n",
       "        (bn2): BatchNorm2d(128, eps=1e-05, momentum=0.1, affine=True, track_running_stats=True)\n",
       "        (downsample): Sequential(\n",
       "          (0): Conv2d(64, 128, kernel_size=(1, 1), stride=(2, 2), bias=False)\n",
       "          (1): BatchNorm2d(128, eps=1e-05, momentum=0.1, affine=True, track_running_stats=True)\n",
       "        )\n",
       "      )\n",
       "      (1): BasicBlock(\n",
       "        (conv1): Conv2d(128, 128, kernel_size=(3, 3), stride=(1, 1), padding=(1, 1), bias=False)\n",
       "        (bn1): BatchNorm2d(128, eps=1e-05, momentum=0.1, affine=True, track_running_stats=True)\n",
       "        (relu): ReLU(inplace=True)\n",
       "        (conv2): Conv2d(128, 128, kernel_size=(3, 3), stride=(1, 1), padding=(1, 1), bias=False)\n",
       "        (bn2): BatchNorm2d(128, eps=1e-05, momentum=0.1, affine=True, track_running_stats=True)\n",
       "      )\n",
       "      (2): BasicBlock(\n",
       "        (conv1): Conv2d(128, 128, kernel_size=(3, 3), stride=(1, 1), padding=(1, 1), bias=False)\n",
       "        (bn1): BatchNorm2d(128, eps=1e-05, momentum=0.1, affine=True, track_running_stats=True)\n",
       "        (relu): ReLU(inplace=True)\n",
       "        (conv2): Conv2d(128, 128, kernel_size=(3, 3), stride=(1, 1), padding=(1, 1), bias=False)\n",
       "        (bn2): BatchNorm2d(128, eps=1e-05, momentum=0.1, affine=True, track_running_stats=True)\n",
       "      )\n",
       "      (3): BasicBlock(\n",
       "        (conv1): Conv2d(128, 128, kernel_size=(3, 3), stride=(1, 1), padding=(1, 1), bias=False)\n",
       "        (bn1): BatchNorm2d(128, eps=1e-05, momentum=0.1, affine=True, track_running_stats=True)\n",
       "        (relu): ReLU(inplace=True)\n",
       "        (conv2): Conv2d(128, 128, kernel_size=(3, 3), stride=(1, 1), padding=(1, 1), bias=False)\n",
       "        (bn2): BatchNorm2d(128, eps=1e-05, momentum=0.1, affine=True, track_running_stats=True)\n",
       "      )\n",
       "    )\n",
       "    (layer3): Sequential(\n",
       "      (0): BasicBlock(\n",
       "        (conv1): Conv2d(128, 256, kernel_size=(3, 3), stride=(2, 2), padding=(1, 1), bias=False)\n",
       "        (bn1): BatchNorm2d(256, eps=1e-05, momentum=0.1, affine=True, track_running_stats=True)\n",
       "        (relu): ReLU(inplace=True)\n",
       "        (conv2): Conv2d(256, 256, kernel_size=(3, 3), stride=(1, 1), padding=(1, 1), bias=False)\n",
       "        (bn2): BatchNorm2d(256, eps=1e-05, momentum=0.1, affine=True, track_running_stats=True)\n",
       "        (downsample): Sequential(\n",
       "          (0): Conv2d(128, 256, kernel_size=(1, 1), stride=(2, 2), bias=False)\n",
       "          (1): BatchNorm2d(256, eps=1e-05, momentum=0.1, affine=True, track_running_stats=True)\n",
       "        )\n",
       "      )\n",
       "      (1): BasicBlock(\n",
       "        (conv1): Conv2d(256, 256, kernel_size=(3, 3), stride=(1, 1), padding=(1, 1), bias=False)\n",
       "        (bn1): BatchNorm2d(256, eps=1e-05, momentum=0.1, affine=True, track_running_stats=True)\n",
       "        (relu): ReLU(inplace=True)\n",
       "        (conv2): Conv2d(256, 256, kernel_size=(3, 3), stride=(1, 1), padding=(1, 1), bias=False)\n",
       "        (bn2): BatchNorm2d(256, eps=1e-05, momentum=0.1, affine=True, track_running_stats=True)\n",
       "      )\n",
       "      (2): BasicBlock(\n",
       "        (conv1): Conv2d(256, 256, kernel_size=(3, 3), stride=(1, 1), padding=(1, 1), bias=False)\n",
       "        (bn1): BatchNorm2d(256, eps=1e-05, momentum=0.1, affine=True, track_running_stats=True)\n",
       "        (relu): ReLU(inplace=True)\n",
       "        (conv2): Conv2d(256, 256, kernel_size=(3, 3), stride=(1, 1), padding=(1, 1), bias=False)\n",
       "        (bn2): BatchNorm2d(256, eps=1e-05, momentum=0.1, affine=True, track_running_stats=True)\n",
       "      )\n",
       "      (3): BasicBlock(\n",
       "        (conv1): Conv2d(256, 256, kernel_size=(3, 3), stride=(1, 1), padding=(1, 1), bias=False)\n",
       "        (bn1): BatchNorm2d(256, eps=1e-05, momentum=0.1, affine=True, track_running_stats=True)\n",
       "        (relu): ReLU(inplace=True)\n",
       "        (conv2): Conv2d(256, 256, kernel_size=(3, 3), stride=(1, 1), padding=(1, 1), bias=False)\n",
       "        (bn2): BatchNorm2d(256, eps=1e-05, momentum=0.1, affine=True, track_running_stats=True)\n",
       "      )\n",
       "      (4): BasicBlock(\n",
       "        (conv1): Conv2d(256, 256, kernel_size=(3, 3), stride=(1, 1), padding=(1, 1), bias=False)\n",
       "        (bn1): BatchNorm2d(256, eps=1e-05, momentum=0.1, affine=True, track_running_stats=True)\n",
       "        (relu): ReLU(inplace=True)\n",
       "        (conv2): Conv2d(256, 256, kernel_size=(3, 3), stride=(1, 1), padding=(1, 1), bias=False)\n",
       "        (bn2): BatchNorm2d(256, eps=1e-05, momentum=0.1, affine=True, track_running_stats=True)\n",
       "      )\n",
       "      (5): BasicBlock(\n",
       "        (conv1): Conv2d(256, 256, kernel_size=(3, 3), stride=(1, 1), padding=(1, 1), bias=False)\n",
       "        (bn1): BatchNorm2d(256, eps=1e-05, momentum=0.1, affine=True, track_running_stats=True)\n",
       "        (relu): ReLU(inplace=True)\n",
       "        (conv2): Conv2d(256, 256, kernel_size=(3, 3), stride=(1, 1), padding=(1, 1), bias=False)\n",
       "        (bn2): BatchNorm2d(256, eps=1e-05, momentum=0.1, affine=True, track_running_stats=True)\n",
       "      )\n",
       "    )\n",
       "    (layer4): Sequential(\n",
       "      (0): BasicBlock(\n",
       "        (conv1): Conv2d(256, 512, kernel_size=(3, 3), stride=(2, 2), padding=(1, 1), bias=False)\n",
       "        (bn1): BatchNorm2d(512, eps=1e-05, momentum=0.1, affine=True, track_running_stats=True)\n",
       "        (relu): ReLU(inplace=True)\n",
       "        (conv2): Conv2d(512, 512, kernel_size=(3, 3), stride=(1, 1), padding=(1, 1), bias=False)\n",
       "        (bn2): BatchNorm2d(512, eps=1e-05, momentum=0.1, affine=True, track_running_stats=True)\n",
       "        (downsample): Sequential(\n",
       "          (0): Conv2d(256, 512, kernel_size=(1, 1), stride=(2, 2), bias=False)\n",
       "          (1): BatchNorm2d(512, eps=1e-05, momentum=0.1, affine=True, track_running_stats=True)\n",
       "        )\n",
       "      )\n",
       "      (1): BasicBlock(\n",
       "        (conv1): Conv2d(512, 512, kernel_size=(3, 3), stride=(1, 1), padding=(1, 1), bias=False)\n",
       "        (bn1): BatchNorm2d(512, eps=1e-05, momentum=0.1, affine=True, track_running_stats=True)\n",
       "        (relu): ReLU(inplace=True)\n",
       "        (conv2): Conv2d(512, 512, kernel_size=(3, 3), stride=(1, 1), padding=(1, 1), bias=False)\n",
       "        (bn2): BatchNorm2d(512, eps=1e-05, momentum=0.1, affine=True, track_running_stats=True)\n",
       "      )\n",
       "      (2): BasicBlock(\n",
       "        (conv1): Conv2d(512, 512, kernel_size=(3, 3), stride=(1, 1), padding=(1, 1), bias=False)\n",
       "        (bn1): BatchNorm2d(512, eps=1e-05, momentum=0.1, affine=True, track_running_stats=True)\n",
       "        (relu): ReLU(inplace=True)\n",
       "        (conv2): Conv2d(512, 512, kernel_size=(3, 3), stride=(1, 1), padding=(1, 1), bias=False)\n",
       "        (bn2): BatchNorm2d(512, eps=1e-05, momentum=0.1, affine=True, track_running_stats=True)\n",
       "      )\n",
       "    )\n",
       "    (avgpool): AdaptiveAvgPool2d(output_size=(1, 1))\n",
       "    (fc): Linear(in_features=512, out_features=512, bias=True)\n",
       "  )\n",
       "  (domain_classifier): Sequential(\n",
       "    (0): Linear(in_features=512, out_features=64, bias=True)\n",
       "    (1): ReLU()\n",
       "    (2): Dropout(p=0.5, inplace=False)\n",
       "    (3): Linear(in_features=64, out_features=1, bias=True)\n",
       "  )\n",
       "  (classifier): Linear(in_features=512, out_features=120, bias=True)\n",
       "  (secondary): SecondMaxLayer()\n",
       ")"
      ]
     },
     "execution_count": 22,
     "metadata": {},
     "output_type": "execute_result"
    }
   ],
   "execution_count": 22
  },
  {
   "cell_type": "code",
   "id": "17163e17",
   "metadata": {
    "ExecuteTime": {
     "end_time": "2024-10-18T08:40:14.583928Z",
     "start_time": "2024-10-18T08:40:14.578584Z"
    }
   },
   "source": [
    "LEARNING_RATE = 0.0001\n",
    "\n",
    "criterion = nn.CrossEntropyLoss()\n",
    "optimizer = optim.Adam(model.parameters(), lr=LEARNING_RATE)\n",
    "lr_scheduler = optim.lr_scheduler.StepLR(optimizer, step_size=15, gamma=0.5)"
   ],
   "outputs": [],
   "execution_count": 23
  },
  {
   "cell_type": "markdown",
   "id": "e3bee1b6",
   "metadata": {},
   "source": [
    "## Training Loop"
   ]
  },
  {
   "cell_type": "code",
   "id": "f722e10a",
   "metadata": {
    "ExecuteTime": {
     "end_time": "2024-10-18T08:40:14.648586Z",
     "start_time": "2024-10-18T08:40:14.641015Z"
    }
   },
   "source": [
    "from IPython.display import display\n",
    "import ipywidgets as widgets\n",
    "\n",
    "# Interactive Loss Plot Update\n",
    "def create_plot():\n",
    "    losses = []\n",
    "\n",
    "    # Enable Interactive Mode\n",
    "    plt.ion()\n",
    "\n",
    "    # Loss Plot Setting\n",
    "    fig, ax = plt.subplots(figsize=(6, 2))\n",
    "    line, = ax.plot(losses)\n",
    "    ax.set_xlabel(\"Iteration\")\n",
    "    ax.set_ylabel(\"Loss\")\n",
    "    ax.set_title(\"Cross Entropy Loss\")\n",
    "\n",
    "    # Display Plot\n",
    "    plot = widgets.Output()\n",
    "    display(plot)\n",
    "\n",
    "    def update_plot(new_loss):\n",
    "        losses.append(new_loss.item())\n",
    "        line.set_ydata(losses)\n",
    "        line.set_xdata(range(len(losses)))\n",
    "        ax.relim()\n",
    "        ax.autoscale_view()\n",
    "        with plot:\n",
    "            plot.clear_output(wait=True)\n",
    "            display(fig)\n",
    "\n",
    "    return update_plot"
   ],
   "outputs": [],
   "execution_count": 24
  },
  {
   "cell_type": "code",
   "id": "4cdee4bd",
   "metadata": {
    "ExecuteTime": {
     "end_time": "2024-10-18T08:40:14.680785Z",
     "start_time": "2024-10-18T08:40:14.677897Z"
    }
   },
   "source": [
    "# Set Epoch Count\n",
    "num_epochs = 10"
   ],
   "outputs": [],
   "execution_count": 25
  },
  {
   "cell_type": "code",
   "id": "d5bf15c5",
   "metadata": {
    "ExecuteTime": {
     "start_time": "2024-10-18T08:40:14.755237Z"
    }
   },
   "source": [
    "train_length, valid_length = map(len, (train_loader, valid_loader))\n",
    "unlabeled_length = len(unlabeled_loader)\n",
    "\n",
    "# 손실 함수 정의\n",
    "domain_criterion = nn.BCELoss()  # 도메인 분류 손실 함수\n",
    "\n",
    "epochs = tqdm(range(num_epochs), desc=\"Running Epochs\")\n",
    "with (tqdm(total=train_length, desc=\"Training\") as train_progress,\n",
    "      tqdm(total=valid_length, desc=\"Validation\") as valid_progress):  # Set up Progress Bars\n",
    "    update = create_plot()  # Create Loss Plot\n",
    "\n",
    "    for epoch in epochs:\n",
    "        train_progress.reset(total=train_length)\n",
    "        valid_progress.reset(total=valid_length)\n",
    "\n",
    "        # Training\n",
    "        model.train()\n",
    "        model.toggle_multilabel(False)\n",
    "\n",
    "        unlabeled_iter = iter(unlabeled_loader)  # 타겟 도메인 데이터 로더의 이터레이터 생성\n",
    "\n",
    "        for i, (inputs_source, targets_source) in enumerate(train_loader):\n",
    "            optimizer.zero_grad()\n",
    "\n",
    "            # 소스 도메인 데이터 설정\n",
    "            inputs_source, targets_source = inputs_source.to(device), targets_source.to(device)\n",
    "            domain_label_source = torch.zeros(inputs_source.size(0), 1).to(device)  # 소스 도메인 레이블: 0\n",
    "\n",
    "            # 타겟 도메인 데이터 가져오기\n",
    "            try:\n",
    "                inputs_target, _ = next(unlabeled_iter)  # 타겟 도메인 데이터 가져오기, 레이블은 없음\n",
    "            except StopIteration:\n",
    "                unlabeled_iter = iter(unlabeled_loader)\n",
    "                inputs_target, _ = next(unlabeled_iter)\n",
    "            inputs_target = inputs_target.to(device)\n",
    "            domain_label_target = torch.ones(inputs_target.size(0), 1).to(device)  # 타겟 도메인 레이블: 1\n",
    "\n",
    "            # lambda_grl 값 설정 (필요에 따라 조정하거나 스케줄링 가능)\n",
    "            lambda_grl = 1.0\n",
    "\n",
    "            # 모델 출력 계산\n",
    "            # 소스 도메인 데이터에서 분류와 도메인 분류 출력\n",
    "            domain_outputs_source, outputs_source = model(inputs_source, lambda_grl)\n",
    "            # 타겟 도메인 데이터에서 도메인 분류 출력 (레이블 없음)\n",
    "            domain_outputs_target, _ = model(inputs_target, lambda_grl)\n",
    "\n",
    "            # 손실 함수 계산\n",
    "            # 분류 손실 (소스 도메인 데이터에 대해서만)\n",
    "            classification_loss = criterion(outputs_source, targets_source)\n",
    "\n",
    "            # 도메인 분류 손실 (소스와 타겟 도메인 모두)\n",
    "            domain_outputs = torch.cat([domain_outputs_source, domain_outputs_target], dim=0)\n",
    "            domain_labels = torch.cat([domain_label_source, domain_label_target], dim=0)\n",
    "            domain_classification_loss = domain_criterion(domain_outputs, domain_labels)\n",
    "\n",
    "            # 총 손실 계산 (분류 손실 + 도메인 분류 손실)\n",
    "            loss = classification_loss + domain_classification_loss\n",
    "\n",
    "            # 역전파 및 옵티마이저 스텝\n",
    "            loss.backward()\n",
    "            optimizer.step()\n",
    "\n",
    "            # # 도메인 분류 정확도 계산\n",
    "            # domain_preds = (domain_outputs >= 0.5).float()\n",
    "            # domain_acc = (domain_preds == domain_labels).sum().item() / domain_labels.size(0)\n",
    "\n",
    "            # Progress Bar 업데이트 및 출력\n",
    "            update(loss)\n",
    "            train_progress.update(1)\n",
    "            print(f\"\\rEpoch [{epoch+1:2}/{num_epochs}], Step [{i+1:2}/{train_length}], Loss: {loss.item():.6f}\", end=\"\")\n",
    "            # print(f\"\\rEpoch [{epoch+1:2}/{num_epochs}], Step [{i+1:2}/{train_length}], Loss: {loss.item():.6f}, Domain Acc: {domain_acc:.6%}\", end=\"\")\n",
    "\n",
    "        val_acc, val_loss, val_domain_acc = 0, 0, 0\n",
    "\n",
    "        # Validation\n",
    "        model.eval()\n",
    "        model.toggle_multilabel(False)\n",
    "        with torch.no_grad():\n",
    "            for inputs, targets in valid_loader:\n",
    "                inputs, targets = inputs.to(device), targets.to(device)\n",
    "                domain_outputs, outputs = model(inputs)\n",
    "\n",
    "                # 분류 손실 계산\n",
    "                val_loss += criterion(outputs, targets).item() / valid_length\n",
    "                val_acc += (torch.max(outputs, 1)[1] == targets.data).sum().item() / len(valid_dataset)\n",
    "\n",
    "                # 도메인 분류기 정확도 계산\n",
    "                domain_preds = (domain_outputs >= 0.5).float()\n",
    "                domain_labels = torch.ones(inputs.size(0), 1).to(device)  # Validation 데이터는 타겟 도메인으로 가정\n",
    "                val_domain_acc += (domain_preds == domain_labels).sum().item() / domain_labels.size(0)\n",
    "\n",
    "                valid_progress.update(1)\n",
    "\n",
    "        print(f\"\\rEpoch [{epoch+1:2}/{num_epochs}], Step [{train_length}/{train_length}], Loss: {loss.item():.6f}, Valid Acc: {val_acc:.6%}, Valid Loss: {val_loss:.6f}, Domain Acc: {val_domain_acc:.6%}\", end=\"\\n\" if (epoch+1) % 5 == 0 or (epoch+1) == num_epochs else \"\")"
   ],
   "outputs": [
    {
     "data": {
      "text/plain": [
       "Running Epochs:   0%|          | 0/10 [00:00<?, ?it/s]"
      ],
      "application/vnd.jupyter.widget-view+json": {
       "version_major": 2,
       "version_minor": 0,
       "model_id": "d0d4c084fafa431181242fd61ffced90"
      }
     },
     "metadata": {},
     "output_type": "display_data"
    },
    {
     "data": {
      "text/plain": [
       "Training:   0%|          | 0/59 [00:00<?, ?it/s]"
      ],
      "application/vnd.jupyter.widget-view+json": {
       "version_major": 2,
       "version_minor": 0,
       "model_id": "4c4b8cdc949040d295a9ed7f859926a4"
      }
     },
     "metadata": {},
     "output_type": "display_data"
    },
    {
     "data": {
      "text/plain": [
       "Validation:   0%|          | 0/15 [00:00<?, ?it/s]"
      ],
      "application/vnd.jupyter.widget-view+json": {
       "version_major": 2,
       "version_minor": 0,
       "model_id": "a6746260cf2d4290a666b7d6977fe087"
      }
     },
     "metadata": {},
     "output_type": "display_data"
    },
    {
     "data": {
      "text/plain": [
       "Output()"
      ],
      "application/vnd.jupyter.widget-view+json": {
       "version_major": 2,
       "version_minor": 0,
       "model_id": "b4608df79053476091128415238548c0"
      }
     },
     "metadata": {},
     "output_type": "display_data"
    },
    {
     "name": "stdout",
     "output_type": "stream",
     "text": [
      "Epoch [ 1/10], Step [ 5/59], Loss: 5.127808"
     ]
    },
    {
     "ename": "KeyboardInterrupt",
     "evalue": "",
     "output_type": "error",
     "traceback": [
      "\u001B[0;31m---------------------------------------------------------------------------\u001B[0m",
      "\u001B[0;31mKeyboardInterrupt\u001B[0m                         Traceback (most recent call last)",
      "Cell \u001B[0;32mIn[26], line 68\u001B[0m\n\u001B[1;32m     61\u001B[0m optimizer\u001B[38;5;241m.\u001B[39mstep()\n\u001B[1;32m     63\u001B[0m \u001B[38;5;66;03m# # 도메인 분류 정확도 계산\u001B[39;00m\n\u001B[1;32m     64\u001B[0m \u001B[38;5;66;03m# domain_preds = (domain_outputs >= 0.5).float()\u001B[39;00m\n\u001B[1;32m     65\u001B[0m \u001B[38;5;66;03m# domain_acc = (domain_preds == domain_labels).sum().item() / domain_labels.size(0)\u001B[39;00m\n\u001B[1;32m     66\u001B[0m \n\u001B[1;32m     67\u001B[0m \u001B[38;5;66;03m# Progress Bar 업데이트 및 출력\u001B[39;00m\n\u001B[0;32m---> 68\u001B[0m update(loss)\n\u001B[1;32m     69\u001B[0m train_progress\u001B[38;5;241m.\u001B[39mupdate(\u001B[38;5;241m1\u001B[39m)\n\u001B[1;32m     70\u001B[0m \u001B[38;5;28mprint\u001B[39m(\u001B[38;5;124mf\u001B[39m\u001B[38;5;124m\"\u001B[39m\u001B[38;5;130;01m\\r\u001B[39;00m\u001B[38;5;124mEpoch [\u001B[39m\u001B[38;5;132;01m{\u001B[39;00mepoch\u001B[38;5;241m+\u001B[39m\u001B[38;5;241m1\u001B[39m\u001B[38;5;132;01m:\u001B[39;00m\u001B[38;5;124m2\u001B[39m\u001B[38;5;132;01m}\u001B[39;00m\u001B[38;5;124m/\u001B[39m\u001B[38;5;132;01m{\u001B[39;00mnum_epochs\u001B[38;5;132;01m}\u001B[39;00m\u001B[38;5;124m], Step [\u001B[39m\u001B[38;5;132;01m{\u001B[39;00mi\u001B[38;5;241m+\u001B[39m\u001B[38;5;241m1\u001B[39m\u001B[38;5;132;01m:\u001B[39;00m\u001B[38;5;124m2\u001B[39m\u001B[38;5;132;01m}\u001B[39;00m\u001B[38;5;124m/\u001B[39m\u001B[38;5;132;01m{\u001B[39;00mtrain_length\u001B[38;5;132;01m}\u001B[39;00m\u001B[38;5;124m], Loss: \u001B[39m\u001B[38;5;132;01m{\u001B[39;00mloss\u001B[38;5;241m.\u001B[39mitem()\u001B[38;5;132;01m:\u001B[39;00m\u001B[38;5;124m.6f\u001B[39m\u001B[38;5;132;01m}\u001B[39;00m\u001B[38;5;124m\"\u001B[39m, end\u001B[38;5;241m=\u001B[39m\u001B[38;5;124m\"\u001B[39m\u001B[38;5;124m\"\u001B[39m)\n",
      "Cell \u001B[0;32mIn[24], line 23\u001B[0m, in \u001B[0;36mcreate_plot.<locals>.update_plot\u001B[0;34m(new_loss)\u001B[0m\n\u001B[1;32m     22\u001B[0m \u001B[38;5;28;01mdef\u001B[39;00m \u001B[38;5;21mupdate_plot\u001B[39m(new_loss):\n\u001B[0;32m---> 23\u001B[0m     losses\u001B[38;5;241m.\u001B[39mappend(new_loss\u001B[38;5;241m.\u001B[39mitem())\n\u001B[1;32m     24\u001B[0m     line\u001B[38;5;241m.\u001B[39mset_ydata(losses)\n\u001B[1;32m     25\u001B[0m     line\u001B[38;5;241m.\u001B[39mset_xdata(\u001B[38;5;28mrange\u001B[39m(\u001B[38;5;28mlen\u001B[39m(losses)))\n",
      "\u001B[0;31mKeyboardInterrupt\u001B[0m: "
     ]
    }
   ],
   "execution_count": 26
  },
  {
   "cell_type": "code",
   "id": "0e02f1a4",
   "metadata": {},
   "source": [
    "if not path.isdir(path.join(\".\", \"models\")):\n",
    "    mkdir(path.join(\".\", \"models\"))\n",
    "\n",
    "# Model Save\n",
    "save_path = path.join(\".\", \"models\", f\"baseline_model.pt\")\n",
    "torch.save(model.state_dict(), save_path)\n",
    "print(f\"Model saved to {save_path}\")"
   ],
   "outputs": [],
   "execution_count": null
  },
  {
   "cell_type": "markdown",
   "id": "a063dc95",
   "metadata": {},
   "source": "# Model Evaluation"
  },
  {
   "cell_type": "code",
   "id": "421f7090",
   "metadata": {},
   "source": [
    "# Load Model\n",
    "model_id = \"baseline_model\"\n",
    "\n",
    "model = ImageClassifier(**MODEL_PARAMS)\n",
    "model.load_state_dict(torch.load(path.join(\".\", \"models\", f\"{model_id}.pt\")))\n",
    "model.to(device)"
   ],
   "outputs": [],
   "execution_count": null
  },
  {
   "cell_type": "code",
   "id": "2e391d63",
   "metadata": {},
   "source": [
    "results = dict(id=[], label1=[], label2=[])\n",
    "test_length = len(test_dataset)\n",
    "\n",
    "model.eval()\n",
    "model.toggle_multilabel(True)\n",
    "with torch.no_grad():\n",
    "    for inputs, ids in tqdm(test_loader):\n",
    "        inputs = inputs.to(device)\n",
    "        domain, outputs1, outputs2 = model(inputs)\n",
    "\n",
    "        # label1 처리\n",
    "        preds1 = []\n",
    "        for i in range(domain.size(0)):\n",
    "            if domain[i].item() <= 0.52:\n",
    "                preds1.append(-1)  # 도메인 분류기가 소스 도메인으로 예측하면 -1 저장\n",
    "            else:\n",
    "                # 도메인 분류기가 타겟 도메인으로 예측하면 멀티라벨 추론 수행\n",
    "                pred = torch.max(outputs2[i], 0)[1].item()\n",
    "                preds1.append(pred)\n",
    "\n",
    "        # label2는 그대로 멀티라벨 분류 결과 사용\n",
    "        preds2 = torch.max(outputs1, 1)[1]\n",
    "\n",
    "        results['id'] += [test_dataset.classes[i] for i in ids]\n",
    "        results['label1'] += preds1\n",
    "        results['label2'] += preds2.cpu().detach().numpy().tolist()"
   ],
   "outputs": [],
   "execution_count": null
  },
  {
   "metadata": {},
   "cell_type": "code",
   "source": [
    "# Re-arrange Results\n",
    "for i, labels in enumerate(zip(results['label1'], results['label2'])):\n",
    "    results['label1'][i], results['label2'][i] = min(labels), max(labels)\n",
    "    # results['label1'][i], results['label2'][i] = -1, results['label1'][i]  # 멀티 라벨 분류 안하고 그냥 '-1, 라벨'로 처리\n",
    "\n",
    "results_df = pd.DataFrame(results)\n",
    "results_df"
   ],
   "id": "1f8634ab05729dcb",
   "outputs": [],
   "execution_count": null
  },
  {
   "cell_type": "code",
   "id": "c96e7285",
   "metadata": {},
   "source": [
    "# Save Results\n",
    "submission_dir = \"submissions\"\n",
    "if not path.isdir(submission_dir):\n",
    "    mkdir(submission_dir)\n",
    "\n",
    "submit_file_path = path.join(submission_dir, f\"{model_id}.csv\")\n",
    "results_df.to_csv(submit_file_path, index=False)\n",
    "print(\"File saved to\", submit_file_path)"
   ],
   "outputs": [],
   "execution_count": null
  },
  {
   "cell_type": "code",
   "id": "85668afc",
   "metadata": {},
   "source": [],
   "outputs": [],
   "execution_count": null
  }
 ],
 "metadata": {
  "kernelspec": {
   "display_name": "PyTorch 2.1 (NGC 23.09/Python 3.10) on Backend.AI",
   "language": "python",
   "name": "python3"
  },
  "language_info": {
   "codemirror_mode": {
    "name": "ipython",
    "version": 3
   },
   "file_extension": ".py",
   "mimetype": "text/x-python",
   "name": "python",
   "nbconvert_exporter": "python",
   "pygments_lexer": "ipython3",
   "version": "3.10.12"
  }
 },
 "nbformat": 4,
 "nbformat_minor": 5
}
